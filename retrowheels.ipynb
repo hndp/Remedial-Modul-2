{
 "metadata": {
  "language_info": {
   "codemirror_mode": {
    "name": "ipython",
    "version": 3
   },
   "file_extension": ".py",
   "mimetype": "text/x-python",
   "name": "python",
   "nbconvert_exporter": "python",
   "pygments_lexer": "ipython3",
   "version": "3.8.5-final"
  },
  "orig_nbformat": 2,
  "kernelspec": {
   "name": "python3",
   "display_name": "Python 3",
   "language": "python"
  }
 },
 "nbformat": 4,
 "nbformat_minor": 2,
 "cells": [
  {
   "cell_type": "code",
   "execution_count": 1,
   "metadata": {},
   "outputs": [],
   "source": [
    "import pandas as pd\n",
    "import numpy as np\n",
    "import matplotlib as plt\n",
    "import mysql.connector\n",
    "import sqlalchemy"
   ]
  },
  {
   "cell_type": "code",
   "execution_count": 2,
   "metadata": {},
   "outputs": [],
   "source": [
    "mydb= mysql.connector.connect(\n",
    "    host = 'localhost',\n",
    "    user = 'root',\n",
    "    password = 'codingzone9',\n",
    "    database = 'retrowheels'\n",
    ")"
   ]
  },
  {
   "cell_type": "code",
   "execution_count": 3,
   "metadata": {},
   "outputs": [
    {
     "output_type": "execute_result",
     "data": {
      "text/plain": [
       "  Tables_in_retrowheels  Table_type\n",
       "0             customers  BASE TABLE\n",
       "1             employees  BASE TABLE\n",
       "2               offices  BASE TABLE\n",
       "3          orderdetails  BASE TABLE\n",
       "4                orders  BASE TABLE\n",
       "5              payments  BASE TABLE\n",
       "6          productlines  BASE TABLE\n",
       "7              products  BASE TABLE"
      ],
      "text/html": "<div>\n<style scoped>\n    .dataframe tbody tr th:only-of-type {\n        vertical-align: middle;\n    }\n\n    .dataframe tbody tr th {\n        vertical-align: top;\n    }\n\n    .dataframe thead th {\n        text-align: right;\n    }\n</style>\n<table border=\"1\" class=\"dataframe\">\n  <thead>\n    <tr style=\"text-align: right;\">\n      <th></th>\n      <th>Tables_in_retrowheels</th>\n      <th>Table_type</th>\n    </tr>\n  </thead>\n  <tbody>\n    <tr>\n      <th>0</th>\n      <td>customers</td>\n      <td>BASE TABLE</td>\n    </tr>\n    <tr>\n      <th>1</th>\n      <td>employees</td>\n      <td>BASE TABLE</td>\n    </tr>\n    <tr>\n      <th>2</th>\n      <td>offices</td>\n      <td>BASE TABLE</td>\n    </tr>\n    <tr>\n      <th>3</th>\n      <td>orderdetails</td>\n      <td>BASE TABLE</td>\n    </tr>\n    <tr>\n      <th>4</th>\n      <td>orders</td>\n      <td>BASE TABLE</td>\n    </tr>\n    <tr>\n      <th>5</th>\n      <td>payments</td>\n      <td>BASE TABLE</td>\n    </tr>\n    <tr>\n      <th>6</th>\n      <td>productlines</td>\n      <td>BASE TABLE</td>\n    </tr>\n    <tr>\n      <th>7</th>\n      <td>products</td>\n      <td>BASE TABLE</td>\n    </tr>\n  </tbody>\n</table>\n</div>"
     },
     "metadata": {},
     "execution_count": 3
    }
   ],
   "source": [
    "mycursor = mydb.cursor()\n",
    "mycursor.execute('''\n",
    "show full tables;\n",
    "''')\n",
    "myresult= mycursor.fetchall()\n",
    "columns= mycursor.column_names\n",
    "tables= pd.DataFrame(myresult, columns=columns)\n",
    "tables"
   ]
  },
  {
   "source": [
    "# 1."
   ],
   "cell_type": "markdown",
   "metadata": {}
  },
  {
   "cell_type": "code",
   "execution_count": 4,
   "metadata": {},
   "outputs": [
    {
     "output_type": "execute_result",
     "data": {
      "text/plain": [
       "   Customers  Cities  Countries\n",
       "0        122      95         27"
      ],
      "text/html": "<div>\n<style scoped>\n    .dataframe tbody tr th:only-of-type {\n        vertical-align: middle;\n    }\n\n    .dataframe tbody tr th {\n        vertical-align: top;\n    }\n\n    .dataframe thead th {\n        text-align: right;\n    }\n</style>\n<table border=\"1\" class=\"dataframe\">\n  <thead>\n    <tr style=\"text-align: right;\">\n      <th></th>\n      <th>Customers</th>\n      <th>Cities</th>\n      <th>Countries</th>\n    </tr>\n  </thead>\n  <tbody>\n    <tr>\n      <th>0</th>\n      <td>122</td>\n      <td>95</td>\n      <td>27</td>\n    </tr>\n  </tbody>\n</table>\n</div>"
     },
     "metadata": {},
     "execution_count": 4
    }
   ],
   "source": [
    "mycursor = mydb.cursor()\n",
    "mycursor.execute('''\n",
    "select count(customername) as Customers, count(distinct(city)) as Cities, count(distinct(country)) as Countries from customers;\n",
    "''')\n",
    "myresult= mycursor.fetchall()\n",
    "columns= mycursor.column_names\n",
    "tables= pd.DataFrame(myresult, columns=columns)\n",
    "tables"
   ]
  },
  {
   "source": [
    "# 2."
   ],
   "cell_type": "markdown",
   "metadata": {}
  },
  {
   "cell_type": "code",
   "execution_count": 5,
   "metadata": {},
   "outputs": [
    {
     "output_type": "execute_result",
     "data": {
      "text/plain": [
       "   Employees  Offices  Country  Products StockProducts  Vendors\n",
       "0         23        7       27       110        555131       13"
      ],
      "text/html": "<div>\n<style scoped>\n    .dataframe tbody tr th:only-of-type {\n        vertical-align: middle;\n    }\n\n    .dataframe tbody tr th {\n        vertical-align: top;\n    }\n\n    .dataframe thead th {\n        text-align: right;\n    }\n</style>\n<table border=\"1\" class=\"dataframe\">\n  <thead>\n    <tr style=\"text-align: right;\">\n      <th></th>\n      <th>Employees</th>\n      <th>Offices</th>\n      <th>Country</th>\n      <th>Products</th>\n      <th>StockProducts</th>\n      <th>Vendors</th>\n    </tr>\n  </thead>\n  <tbody>\n    <tr>\n      <th>0</th>\n      <td>23</td>\n      <td>7</td>\n      <td>27</td>\n      <td>110</td>\n      <td>555131</td>\n      <td>13</td>\n    </tr>\n  </tbody>\n</table>\n</div>"
     },
     "metadata": {},
     "execution_count": 5
    }
   ],
   "source": [
    "mycursor = mydb.cursor()\n",
    "mycursor.execute('''\n",
    "select count(distinct(employees.employeenumber)) as Employees, count(distinct(offices.officecode)) as Offices, count(distinct(customers.country)) as Country, count(distinct(products.productname)) as Products, sum(distinct(products.quantityinstock)) as StockProducts, count(distinct(products.productvendor)) as Vendors from employees, offices, customers, products\n",
    "where offices.officecode = employees.officecode and offices.officecode = employees.officecode;\n",
    "''')\n",
    "myresult= mycursor.fetchall()\n",
    "columns= mycursor.column_names\n",
    "tables= pd.DataFrame(myresult, columns=columns)\n",
    "tables"
   ]
  },
  {
   "source": [
    "# 3."
   ],
   "cell_type": "markdown",
   "metadata": {}
  },
  {
   "cell_type": "code",
   "execution_count": 6,
   "metadata": {},
   "outputs": [
    {
     "output_type": "execute_result",
     "data": {
      "text/plain": [
       "        productLine minPrice maxPrice\n",
       "0      Classic Cars    15.91   103.42\n",
       "1       Motorcycles    24.14    91.02\n",
       "2            Planes    29.34    77.27\n",
       "3             Ships    33.30    82.34\n",
       "4            Trains    26.72    67.56\n",
       "5  Trucks and Buses    24.92    84.76\n",
       "6      Vintage Cars    20.61    86.70"
      ],
      "text/html": "<div>\n<style scoped>\n    .dataframe tbody tr th:only-of-type {\n        vertical-align: middle;\n    }\n\n    .dataframe tbody tr th {\n        vertical-align: top;\n    }\n\n    .dataframe thead th {\n        text-align: right;\n    }\n</style>\n<table border=\"1\" class=\"dataframe\">\n  <thead>\n    <tr style=\"text-align: right;\">\n      <th></th>\n      <th>productLine</th>\n      <th>minPrice</th>\n      <th>maxPrice</th>\n    </tr>\n  </thead>\n  <tbody>\n    <tr>\n      <th>0</th>\n      <td>Classic Cars</td>\n      <td>15.91</td>\n      <td>103.42</td>\n    </tr>\n    <tr>\n      <th>1</th>\n      <td>Motorcycles</td>\n      <td>24.14</td>\n      <td>91.02</td>\n    </tr>\n    <tr>\n      <th>2</th>\n      <td>Planes</td>\n      <td>29.34</td>\n      <td>77.27</td>\n    </tr>\n    <tr>\n      <th>3</th>\n      <td>Ships</td>\n      <td>33.30</td>\n      <td>82.34</td>\n    </tr>\n    <tr>\n      <th>4</th>\n      <td>Trains</td>\n      <td>26.72</td>\n      <td>67.56</td>\n    </tr>\n    <tr>\n      <th>5</th>\n      <td>Trucks and Buses</td>\n      <td>24.92</td>\n      <td>84.76</td>\n    </tr>\n    <tr>\n      <th>6</th>\n      <td>Vintage Cars</td>\n      <td>20.61</td>\n      <td>86.70</td>\n    </tr>\n  </tbody>\n</table>\n</div>"
     },
     "metadata": {},
     "execution_count": 6
    }
   ],
   "source": [
    "mycursor = mydb.cursor()\n",
    "mycursor.execute('''\n",
    "select distinct(products.productline) as productLine, min(products.buyprice) as minPrice, max(products.buyprice) as maxPrice from products, orderdetails, orders\n",
    "where products.productcode = orderdetails.productcode and products.productcode = orderdetails.productcode\n",
    "group by products.productline\n",
    "order by products.productline;\n",
    "''')\n",
    "myresult= mycursor.fetchall()\n",
    "columns= mycursor.column_names\n",
    "tables= pd.DataFrame(myresult, columns=columns)\n",
    "tables"
   ]
  },
  {
   "source": [
    "# 4."
   ],
   "cell_type": "markdown",
   "metadata": {}
  },
  {
   "cell_type": "code",
   "execution_count": 7,
   "metadata": {},
   "outputs": [
    {
     "output_type": "execute_result",
     "data": {
      "text/plain": [
       "                   customerName           city    country      total\n",
       "0             La Rochelle Gifts         Nantes     France  120166.58\n",
       "1             Land of Toys Inc.            NYC        USA  120166.58\n",
       "2               Mini Wheels Co.  San Francisco        USA  120166.58\n",
       "3    Australian Collectors, Co.      Melbourne  Australia  120166.58\n",
       "4          Blauer See Auto, Co.      Frankfurt    Germany  120166.58\n",
       "5             Atelier graphique         Nantes     France  120166.58\n",
       "6            Baane Mini Imports        Stavern     Norway  120166.58\n",
       "7            Havel & Zbyszek Co       Warszawa     Poland  120166.58\n",
       "8  Mini Gifts Distributors Ltd.     San Rafael        USA  120166.58\n",
       "9            Signal Gift Stores      Las Vegas        USA  120166.58"
      ],
      "text/html": "<div>\n<style scoped>\n    .dataframe tbody tr th:only-of-type {\n        vertical-align: middle;\n    }\n\n    .dataframe tbody tr th {\n        vertical-align: top;\n    }\n\n    .dataframe thead th {\n        text-align: right;\n    }\n</style>\n<table border=\"1\" class=\"dataframe\">\n  <thead>\n    <tr style=\"text-align: right;\">\n      <th></th>\n      <th>customerName</th>\n      <th>city</th>\n      <th>country</th>\n      <th>total</th>\n    </tr>\n  </thead>\n  <tbody>\n    <tr>\n      <th>0</th>\n      <td>La Rochelle Gifts</td>\n      <td>Nantes</td>\n      <td>France</td>\n      <td>120166.58</td>\n    </tr>\n    <tr>\n      <th>1</th>\n      <td>Land of Toys Inc.</td>\n      <td>NYC</td>\n      <td>USA</td>\n      <td>120166.58</td>\n    </tr>\n    <tr>\n      <th>2</th>\n      <td>Mini Wheels Co.</td>\n      <td>San Francisco</td>\n      <td>USA</td>\n      <td>120166.58</td>\n    </tr>\n    <tr>\n      <th>3</th>\n      <td>Australian Collectors, Co.</td>\n      <td>Melbourne</td>\n      <td>Australia</td>\n      <td>120166.58</td>\n    </tr>\n    <tr>\n      <th>4</th>\n      <td>Blauer See Auto, Co.</td>\n      <td>Frankfurt</td>\n      <td>Germany</td>\n      <td>120166.58</td>\n    </tr>\n    <tr>\n      <th>5</th>\n      <td>Atelier graphique</td>\n      <td>Nantes</td>\n      <td>France</td>\n      <td>120166.58</td>\n    </tr>\n    <tr>\n      <th>6</th>\n      <td>Baane Mini Imports</td>\n      <td>Stavern</td>\n      <td>Norway</td>\n      <td>120166.58</td>\n    </tr>\n    <tr>\n      <th>7</th>\n      <td>Havel &amp; Zbyszek Co</td>\n      <td>Warszawa</td>\n      <td>Poland</td>\n      <td>120166.58</td>\n    </tr>\n    <tr>\n      <th>8</th>\n      <td>Mini Gifts Distributors Ltd.</td>\n      <td>San Rafael</td>\n      <td>USA</td>\n      <td>120166.58</td>\n    </tr>\n    <tr>\n      <th>9</th>\n      <td>Signal Gift Stores</td>\n      <td>Las Vegas</td>\n      <td>USA</td>\n      <td>120166.58</td>\n    </tr>\n  </tbody>\n</table>\n</div>"
     },
     "metadata": {},
     "execution_count": 7
    }
   ],
   "source": [
    "mycursor = mydb.cursor()\n",
    "mycursor.execute('''\n",
    "select customers.customername as customerName, customers.city, customers.country, payments.amount as total from customers, payments\n",
    "where payments.customernumber = payments.customernumber\n",
    "order by payments.amount desc limit 10;\n",
    "\n",
    "''')\n",
    "myresult= mycursor.fetchall()\n",
    "columns= mycursor.column_names\n",
    "tables= pd.DataFrame(myresult, columns=columns)\n",
    "tables"
   ]
  },
  {
   "source": [
    "# 5."
   ],
   "cell_type": "markdown",
   "metadata": {}
  },
  {
   "cell_type": "code",
   "execution_count": 1,
   "metadata": {},
   "outputs": [
    {
     "output_type": "error",
     "ename": "NameError",
     "evalue": "name 'mydb' is not defined",
     "traceback": [
      "\u001b[0;31m---------------------------------------------------------------------------\u001b[0m",
      "\u001b[0;31mNameError\u001b[0m                                 Traceback (most recent call last)",
      "\u001b[0;32m<ipython-input-1-0446282aea29>\u001b[0m in \u001b[0;36m<module>\u001b[0;34m\u001b[0m\n\u001b[0;32m----> 1\u001b[0;31m \u001b[0mmycursor\u001b[0m \u001b[0;34m=\u001b[0m \u001b[0mmydb\u001b[0m\u001b[0;34m.\u001b[0m\u001b[0mcursor\u001b[0m\u001b[0;34m(\u001b[0m\u001b[0;34m)\u001b[0m\u001b[0;34m\u001b[0m\u001b[0;34m\u001b[0m\u001b[0m\n\u001b[0m\u001b[1;32m      2\u001b[0m mycursor.execute('''\n\u001b[1;32m      3\u001b[0m \u001b[0mselect\u001b[0m \u001b[0mcustomers\u001b[0m\u001b[0;34m.\u001b[0m\u001b[0mcustomername\u001b[0m\u001b[0;34m,\u001b[0m \u001b[0mproducts\u001b[0m\u001b[0;34m.\u001b[0m\u001b[0mproductname\u001b[0m\u001b[0;34m,\u001b[0m \u001b[0morderdetails\u001b[0m\u001b[0;34m.\u001b[0m\u001b[0mpriceeach\u001b[0m\u001b[0;34m,\u001b[0m \u001b[0morderdetails\u001b[0m\u001b[0;34m.\u001b[0m\u001b[0mquantityordered\u001b[0m \u001b[0;32mfrom\u001b[0m \u001b[0mcustomers\u001b[0m\u001b[0;34m,\u001b[0m \u001b[0mproducts\u001b[0m\u001b[0;34m,\u001b[0m \u001b[0morderdetails\u001b[0m\u001b[0;34m;\u001b[0m\u001b[0;34m\u001b[0m\u001b[0;34m\u001b[0m\u001b[0m\n\u001b[1;32m      4\u001b[0m ''')\n\u001b[1;32m      5\u001b[0m \u001b[0mmyresult\u001b[0m\u001b[0;34m=\u001b[0m \u001b[0mmycursor\u001b[0m\u001b[0;34m.\u001b[0m\u001b[0mfetchall\u001b[0m\u001b[0;34m(\u001b[0m\u001b[0;34m)\u001b[0m\u001b[0;34m\u001b[0m\u001b[0;34m\u001b[0m\u001b[0m\n",
      "\u001b[0;31mNameError\u001b[0m: name 'mydb' is not defined"
     ]
    }
   ],
   "source": [
    "mycursor = mydb.cursor()\n",
    "mycursor.execute('''\n",
    "select customers.customername, products.productname, orderdetails.priceeach, orderdetails.quantityordered from customers, products, orderdetails;\n",
    "''')\n",
    "myresult= mycursor.fetchall()\n",
    "columns= mycursor.column_names\n",
    "tables= pd.DataFrame(myresult, columns=columns)\n",
    "tables"
   ]
  },
  {
   "cell_type": "code",
   "execution_count": null,
   "metadata": {},
   "outputs": [],
   "source": []
  }
 ]
}